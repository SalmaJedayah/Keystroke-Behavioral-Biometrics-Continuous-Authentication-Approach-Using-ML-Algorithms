{
 "cells": [
  {
   "cell_type": "code",
   "execution_count": 2,
   "id": "8a574f28-b4c3-4952-9bd6-88271e913761",
   "metadata": {},
   "outputs": [
    {
     "data": {
      "text/plain": [
       "((17920, 83), (4480, 83), (17920,), (4480,))"
      ]
     },
     "execution_count": 2,
     "metadata": {},
     "output_type": "execute_result"
    }
   ],
   "source": [
    "import numpy as np\n",
    "import pandas as pd\n",
    "import seaborn as sns\n",
    "import matplotlib.pyplot as plt\n",
    "%matplotlib inline\n",
    "from sklearn.metrics import confusion_matrix\n",
    "import time\n",
    "from sklearn.metrics import roc_auc_score\n",
    "from sklearn.metrics import roc_curve, auc\n",
    "from scipy import interp\n",
    "from sklearn.model_selection import train_test_split\n",
    "from sklearn.utils import shuffle\n",
    "from sklearn.ensemble import RandomForestClassifier\n",
    "from sklearn.feature_selection import SelectFromModel\n",
    "from sklearn import metrics #Import scikit-learn metrics module for accuracy calculation\n",
    "from sklearn.metrics import accuracy_score\n",
    "from sklearn.neighbors import KNeighborsClassifier\n",
    "from sklearn.tree import DecisionTreeClassifier\n",
    "from numpy import set_printoptions\n",
    "from sklearn.metrics import mean_squared_error\n",
    "set_printoptions(precision=3)\n",
    "pd.set_option('display.max_rows', 1000)\n",
    "data=pd.read_csv(\"C:\\\\Users\\\\Smart Tablets\\\\Desktop\\\\KEYSTROKE AUTHENTICATION PROJECT//DS//KEYSTROKES.csv\")\n",
    "\n",
    "#data.keys()\n",
    "data.head()\n",
    "array = data.values\n",
    "\n",
    "X=data.drop(labels='subject',axis=1)\n",
    "y=data['subject']\n",
    "X, y = shuffle(X, y)\n",
    "X_train, X_test, y_train, y_test = train_test_split(X, y, test_size=0.20)\n",
    "X_train.shape, X_test.shape , y_train.shape,y_test.shape"
   ]
  },
  {
   "cell_type": "code",
   "execution_count": 4,
   "id": "3e26170d-6b2c-4fae-b13b-1d980affeabe",
   "metadata": {},
   "outputs": [
    {
     "data": {
      "text/plain": [
       "(84, 84)"
      ]
     },
     "execution_count": 4,
     "metadata": {},
     "output_type": "execute_result"
    }
   ],
   "source": [
    "corr =data.corr(method='spearman')\n",
    "#print(corr)\n",
    "#Selecting highly correlated features\n",
    "relevant_features = corr[corr>0.5]\n",
    "relevant_features"
   ]
  },
  {
   "cell_type": "code",
   "execution_count": null,
   "id": "2364f9c4-a7b9-455c-ad42-6868d5f4b8c0",
   "metadata": {},
   "outputs": [],
   "source": []
  }
 ],
 "metadata": {
  "kernelspec": {
   "display_name": "Python 3 (ipykernel)",
   "language": "python",
   "name": "python3"
  },
  "language_info": {
   "codemirror_mode": {
    "name": "ipython",
    "version": 3
   },
   "file_extension": ".py",
   "mimetype": "text/x-python",
   "name": "python",
   "nbconvert_exporter": "python",
   "pygments_lexer": "ipython3",
   "version": "3.10.9"
  }
 },
 "nbformat": 4,
 "nbformat_minor": 5
}
