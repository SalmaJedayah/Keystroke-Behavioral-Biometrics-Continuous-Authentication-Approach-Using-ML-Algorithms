{
 "cells": [
  {
   "cell_type": "code",
   "execution_count": null,
   "id": "edcf8e34",
   "metadata": {},
   "outputs": [],
   "source": []
  },
  {
   "cell_type": "code",
   "execution_count": 1,
   "id": "464c4499",
   "metadata": {},
   "outputs": [
    {
     "data": {
      "text/plain": [
       "StandardScaler()"
      ]
     },
     "execution_count": 1,
     "metadata": {},
     "output_type": "execute_result"
    }
   ],
   "source": [
    "import numpy as np\n",
    "import pandas as pd\n",
    "import seaborn as sns\n",
    "import matplotlib.pyplot as plt\n",
    "\n",
    "from matplotlib.pyplot import figure\n",
    "import seaborn as sns\n",
    "from sklearn.preprocessing import LabelEncoder\n",
    "%matplotlib inline\n",
    "\n",
    "import time\n",
    "from sklearn.metrics import confusion_matrix\n",
    "from sklearn.metrics import roc_auc_score\n",
    "from sklearn.metrics import roc_curve, auc\n",
    "from sklearn import preprocessing\n",
    "from feature_engine.selection import DropCorrelatedFeatures, SmartCorrelatedSelection\n",
    "\n",
    "from scipy import interp\n",
    "from sklearn.feature_selection import SelectKBest\n",
    "from sklearn.feature_selection import f_classif\n",
    "from sklearn.feature_selection import chi2\n",
    "from sklearn.svm import SVC  \n",
    "from sklearn.naive_bayes import GaussianNB\n",
    "from sklearn.neighbors import KNeighborsClassifier\n",
    "from sklearn.ensemble import RandomForestClassifier\n",
    "from sklearn.model_selection import train_test_split\n",
    "from sklearn.tree import DecisionTreeClassifier\n",
    "from sklearn.feature_selection import VarianceThreshold\n",
    "from sklearn.utils import shuffle\n",
    "from sklearn.feature_selection import SelectFromModel\n",
    "from sklearn import metrics #Import scikit-learn metrics module for accuracy calculation\n",
    "from sklearn.metrics import accuracy_score\n",
    "from numpy import set_printoptions\n",
    "from pycm import *\n",
    "\n",
    "from sklearn.metrics import classification_report,confusion_matrix\n",
    "from sklearn.metrics import mean_squared_error\n",
    "set_printoptions(precision=3)\n",
    "pd.set_option('display.max_rows', 1000)\n",
    "data=pd.read_csv('SWIPES.csv')\n",
    "\n",
    "#data.keys()\n",
    "data.head()\n",
    "array = data.values\n",
    "\n",
    "X=data.drop(labels='subject',axis=1)\n",
    "X.fillna(X.mean())\n",
    "y=data['subject']\n",
    "X, y = shuffle(X, y)\n",
    "X_train, X_test, y_train, y_test = train_test_split(X, y, test_size=0.20)\n",
    "X_train.shape, X_test.shape , y_train.shape,y_test.shape\n",
    "\n",
    "from sklearn.preprocessing import StandardScaler\n",
    "scaler = StandardScaler()\n",
    "scaler.fit(X_train)\n",
    "\n",
    "#X_train = scaler.transform(X_train)\n",
    "#X_test = scaler.transform(X_test)\n",
    "\n"
   ]
  },
  {
   "cell_type": "code",
   "execution_count": 2,
   "id": "b435856d",
   "metadata": {},
   "outputs": [],
   "source": [
    "################################################################################################################\n",
    "################################################################################################################\n",
    "def run_RF(X_train, X_test, y_train, y_test):\n",
    "    start =  time.process_time()\n",
    "    clf = RandomForestClassifier(max_depth=30, n_estimators=200)\n",
    "    clf.fit(X_train, y_train)\n",
    "    y_pred = clf.predict(X_test)\n",
    "    print('RF____Accuracy: ', accuracy_score(y_test, y_pred),\"---TIME = %s seconds ---\" % (time.process_time() - start))\n",
    "# Model Accuracy, how often is the classifier correct?\n",
    "    print (\"TEST Accuracy:\", metrics.accuracy_score(y_test, y_pred))\n",
    "    print( \"TEST F1 score:\",metrics.f1_score(y_test, y_pred, average='macro'))\n",
    "    print(\"TEST Recall:\", metrics.recall_score(y_test, y_pred, average='macro'))\n",
    "    print (\"TEST  Precision:\", metrics.precision_score(y_test, y_pred, average='macro'))\n",
    "    cm = confusion_matrix(y_test, y_pred)\n",
    "    cm = cm.astype('float') / cm.sum(axis=1)[:, np.newaxis]\n",
    "    print(cm.diagonal())\n",
    "    PRED_V = y_pred\n",
    "    ACT_V=y_test.values\n",
    "    cm1 = ConfusionMatrix(actual_vector=ACT_V, predict_vector=PRED_V) # Create CM From Data\n",
    "    cm1.classes\n",
    "    cm1.table\n",
    "    cm1.save_html(os.path.join(\"CORR_RF_results\"))\n",
    "################################################################################################################\n",
    "################################################################################################################\n",
    "def run_DT(X_train, X_test, y_train, y_test):\n",
    "    start =time.process_time()\n",
    "    clf = DecisionTreeClassifier(random_state=50)\n",
    "    clf.fit(X_train, y_train)\n",
    "    y_pred = clf.predict(X_test)\n",
    "    print('DT____Accuracy: ', accuracy_score(y_test, y_pred),\"---TIME = %s seconds ---\" % (time.process_time() - start))\n",
    "# Model Accuracy, how often is the classifier correct?\n",
    "    print (\"TEST Accuracy:\", metrics.accuracy_score(y_test, y_pred))\n",
    "    print( \"TEST F1 score:\",metrics.f1_score(y_test, y_pred, average='macro'))\n",
    "    print(\"TEST Recall:\", metrics.recall_score(y_test, y_pred, average='macro'))\n",
    "    print (\"TEST  Precision:\", metrics.precision_score(y_test, y_pred, average='macro'))\n",
    "    cm = confusion_matrix(y_test, y_pred)\n",
    "    cm = cm.astype('float') / cm.sum(axis=1)[:, np.newaxis]\n",
    "    print(cm.diagonal())\n",
    "    PRED_V = y_pred\n",
    "    ACT_V=y_test.values\n",
    "    cm1 = ConfusionMatrix(actual_vector=ACT_V, predict_vector=PRED_V) # Create CM From Data\n",
    "    cm1.classes\n",
    "    cm1.table\n",
    "    cm1.save_html(os.path.join(\"CORR_DT_results\"))\n",
    "################################################################################################################\n",
    "################################################################################################################\n",
    "def run_NB(X_train, X_test, y_train, y_test):\n",
    "    start =  time.process_time()\n",
    "    clf = GaussianNB(var_smoothing=0.0001519911082952933)\n",
    "    clf.fit(X_train, y_train)\n",
    "    y_pred = clf.predict(X_test)\n",
    "    y_pred = clf.predict(X_test)\n",
    "    print('NB____Accuracy: ', accuracy_score(y_test, y_pred),\"---TIME = %s seconds ---\" % (time.process_time() - start))\n",
    "# Model Accuracy, how often is the classifier correct?\n",
    "    print (\"TEST Accuracy:\", metrics.accuracy_score(y_test, y_pred))\n",
    "    print( \"TEST F1 score:\",metrics.f1_score(y_test, y_pred, average='macro'))\n",
    "    print(\"TEST Recall:\", metrics.recall_score(y_test, y_pred, average='macro'))\n",
    "    print (\"TEST  Precision:\", metrics.precision_score(y_test, y_pred, average='macro'))\n",
    "\n",
    "    cm = confusion_matrix(y_test, y_pred)\n",
    "    cm = cm.astype('float') / cm.sum(axis=1)[:, np.newaxis]\n",
    "    print(cm.diagonal())\n",
    "    PRED_V = y_pred\n",
    "    ACT_V=y_test.values\n",
    "    cm1 = ConfusionMatrix(actual_vector=ACT_V, predict_vector=PRED_V) # Create CM From Data\n",
    "    cm1.classes\n",
    "    cm1.table\n",
    "    cm1.save_html(os.path.join(\"CORR_NB_results\"))\n",
    "################################################################################################################\n",
    "################################################################################################################\n",
    "def run_SVM(X_train, X_test, y_train, y_test):\n",
    "    start = time.process_time()\n",
    "    clf = SVC(C=10, gamma=1, kernel='linear') # Linear Kernel\n",
    "    clf.fit(X_train, y_train)\n",
    "    y_pred = clf.predict(X_test)\n",
    "    print('SVM____Accuracy: ', accuracy_score(y_test, y_pred),\"---TIME = %s seconds ---\" % (time.process_time() - start))\n",
    "# Model Accuracy, how often is the classifier correct?\n",
    "    print (\"TEST Accuracy:\", metrics.accuracy_score(y_test, y_pred))\n",
    "    print( \"TEST F1 score:\",metrics.f1_score(y_test, y_pred, average='macro'))\n",
    "    print(\"TEST Recall:\", metrics.recall_score(y_test, y_pred, average='macro'))\n",
    "    print (\"TEST  Precision:\", metrics.precision_score(y_test, y_pred, average='macro'))\n",
    "\n",
    "    cm = confusion_matrix(y_test, y_pred)\n",
    "    cm = cm.astype('float') / cm.sum(axis=1)[:, np.newaxis]\n",
    "    print(cm.diagonal())\n",
    "    PRED_V = y_pred\n",
    "    ACT_V=y_test.values\n",
    "    cm1 = ConfusionMatrix(actual_vector=ACT_V, predict_vector=PRED_V) # Create CM From Data\n",
    "    cm1.classes\n",
    "    cm1.table\n",
    "    cm1.save_html(os.path.join(\"CORR_SVM_results\"))\n",
    "################################################################################################################\n",
    "################################################################################################################\n",
    "def run_KNN(X_train, X_test, y_train, y_test):\n",
    "    start = time.process_time()\n",
    "    clf = KNeighborsClassifier(n_neighbors=3, weights='distance')\n",
    "    clf.fit(X_train, y_train)\n",
    "    y_pred = clf.predict(X_test)\n",
    "    y_pred = clf.predict(X_test)\n",
    "    print('KNN____Accuracy: ', accuracy_score(y_test, y_pred),\"---TIME = %s seconds ---\" % (time.process_time() - start))\n",
    "# Model Accuracy, how often is the classifier correct?\n",
    "    print (\"TEST Accuracy:\", metrics.accuracy_score(y_test, y_pred))\n",
    "    print( \"TEST F1 score:\",metrics.f1_score(y_test, y_pred, average='macro'))\n",
    "    print(\"TEST Recall:\", metrics.recall_score(y_test, y_pred, average='macro'))\n",
    "    print (\"TEST  Precision:\", metrics.precision_score(y_test, y_pred, average='macro'))\n",
    "\n",
    "    cm = confusion_matrix(y_test, y_pred)\n",
    "    cm = cm.astype('float') / cm.sum(axis=1)[:, np.newaxis]\n",
    "    print(cm.diagonal())\n",
    "    PRED_V = y_pred\n",
    "    ACT_V=y_test.values\n",
    "    cm1 = ConfusionMatrix(actual_vector=ACT_V, predict_vector=PRED_V) # Create CM From Data\n",
    "    cm1.classes\n",
    "    cm1.table\n",
    "    cm1.save_html(os.path.join(\"CORR_KNN_results\"))\n",
    "################################################################################################################\n",
    "################################################################################################################"
   ]
  },
  {
   "cell_type": "code",
   "execution_count": 3,
   "id": "c0d970ea",
   "metadata": {},
   "outputs": [
    {
     "data": {
      "text/plain": [
       "<AxesSubplot:>"
      ]
     },
     "execution_count": 3,
     "metadata": {},
     "output_type": "execute_result"
    },
    {
     "data": {
      "image/png": "[encoded data removed]",
      "text/plain": [
       "<Figure size 864x576 with 2 Axes>"
      ]
     },
     "metadata": {
      "needs_background": "light"
     },
     "output_type": "display_data"
    }
   ],
   "source": [
    "corrmat = X_train.corr()\n",
    "\n",
    "plt.figure(figsize=(12,8))\n",
    "sns.heatmap(corrmat)"
   ]
  },
  {
   "cell_type": "code",
   "execution_count": 4,
   "id": "e636766e",
   "metadata": {},
   "outputs": [],
   "source": [
    "def get_correlation(data, threshold):\n",
    "    corr_col = set()\n",
    "    corrmat = data.corr()\n",
    "    for i in range(len(corrmat.columns)):\n",
    "        for j in range(i):\n",
    "            if abs(corrmat.iloc[i, j])> threshold:\n",
    "                colname = corrmat.columns[i]\n",
    "                corr_col.add(colname)\n",
    "    return corr_col"
   ]
  },
  {
   "cell_type": "code",
   "execution_count": 20,
   "id": "15952cd2",
   "metadata": {},
   "outputs": [
    {
     "data": {
      "text/plain": [
       "{'amean',\n",
       " 'aquarts_0',\n",
       " 'areaquarts_0',\n",
       " 'areaquarts_1',\n",
       " 'areaquarts_2',\n",
       " 'directional stroke',\n",
       " 'eucliddist',\n",
       " 'maxx',\n",
       " 'maxy',\n",
       " 'swipetype'}"
      ]
     },
     "execution_count": 20,
     "metadata": {},
     "output_type": "execute_result"
    }
   ],
   "source": [
    "corr_features = get_correlation(X_train, 0.5)\n",
    "corr_features"
   ]
  },
  {
   "cell_type": "code",
   "execution_count": 21,
   "id": "dd0cc1a1",
   "metadata": {},
   "outputs": [
    {
     "data": {
      "text/plain": [
       "10"
      ]
     },
     "execution_count": 21,
     "metadata": {},
     "output_type": "execute_result"
    }
   ],
   "source": [
    "len(corr_features)"
   ]
  },
  {
   "cell_type": "code",
   "execution_count": 22,
   "id": "9c101c3b",
   "metadata": {},
   "outputs": [
    {
     "data": {
      "text/plain": [
       "((17920, 20), (4480, 20))"
      ]
     },
     "execution_count": 22,
     "metadata": {},
     "output_type": "execute_result"
    }
   ],
   "source": [
    "X_train_uncorr = X_train.drop(labels=corr_features, axis = 1)\n",
    "X_test_uncorr = X_test.drop(labels = corr_features, axis = 1)\n",
    "X_train_uncorr.shape, X_test_uncorr.shape\n"
   ]
  },
  {
   "cell_type": "code",
   "execution_count": 29,
   "id": "0245f0ef",
   "metadata": {},
   "outputs": [
    {
     "name": "stdout",
     "output_type": "stream",
     "text": [
      "RF____Accuracy:  0.9917410714285714 ---TIME = 18.9375 seconds ---\n",
      "TEST Accuracy: 0.9917410714285714\n",
      "TEST F1 score: 0.99144554709187\n",
      "TEST Recall: 0.9913614247497182\n",
      "TEST  Precision: 0.9916715645813573\n",
      "[0.988 0.976 1.    0.988 1.    1.    1.    0.931 1.    0.972 0.987 0.989\n",
      " 1.    0.985 1.    0.989 1.    1.    1.    1.    1.    1.    0.971 1.\n",
      " 1.    0.985 1.    1.    1.    1.    1.    0.971 0.988 0.976 1.    1.\n",
      " 0.99  1.    1.    1.    0.976 0.957 1.    0.987 0.986 0.974 1.    1.\n",
      " 1.    1.    1.    0.988 0.974 1.    0.988 1.   ]\n",
      "Wall time: 19.1 s\n"
     ]
    }
   ],
   "source": [
    "\n",
    "%%time\n",
    "run_RF(X_train_uncorr, X_test_uncorr, y_train, y_test)"
   ]
  },
  {
   "cell_type": "code",
   "execution_count": 28,
   "id": "56eb3c2f",
   "metadata": {},
   "outputs": [
    {
     "name": "stdout",
     "output_type": "stream",
     "text": [
      "SVM____Accuracy:  0.9285714285714286 ---TIME = 5.5625 seconds ---\n",
      "TEST Accuracy: 0.9285714285714286\n",
      "TEST F1 score: 0.9279850151656682\n",
      "TEST Recall: 0.9283829696989238\n",
      "TEST  Precision: 0.9291991912866632\n",
      "[0.938 0.976 0.903 0.951 1.    0.877 0.926 0.944 0.773 0.944 0.949 0.923\n",
      " 1.    0.938 0.949 0.955 0.987 0.95  0.949 1.    0.985 0.945 0.87  0.942\n",
      " 0.989 0.941 0.987 0.904 0.948 0.96  0.938 0.855 0.953 0.965 1.    0.925\n",
      " 0.838 1.    0.986 0.921 0.916 0.814 0.92  1.    0.811 0.882 0.96  0.9\n",
      " 0.875 1.    0.811 0.849 0.974 0.909 0.88  0.806]\n",
      "Wall time: 5.68 s\n"
     ]
    }
   ],
   "source": [
    "\n",
    "%%time\n",
    "run_SVM(X_train_uncorr, X_test_uncorr, y_train, y_test)"
   ]
  },
  {
   "cell_type": "code",
   "execution_count": 26,
   "id": "2d427fa2",
   "metadata": {},
   "outputs": [
    {
     "name": "stdout",
     "output_type": "stream",
     "text": [
      "NB____Accuracy:  0.7808035714285714 ---TIME = 0.078125 seconds ---\n",
      "TEST Accuracy: 0.7808035714285714\n",
      "TEST F1 score: 0.7785817195219248\n",
      "TEST Recall: 0.7800343834953628\n",
      "TEST  Precision: 0.7843562049334724\n",
      "[0.827 0.807 0.708 0.744 0.851 0.593 0.851 0.792 0.682 0.736 0.722 0.714\n",
      " 0.925 0.862 0.861 0.693 0.872 0.863 0.821 0.988 0.924 0.505 0.725 0.814\n",
      " 0.957 0.676 0.8   0.795 0.771 0.88  0.738 0.551 0.647 0.859 0.961 0.677\n",
      " 0.848 0.89  0.928 0.921 0.88  0.757 0.862 0.64  0.676 0.566 0.86  0.814\n",
      " 0.833 0.932 0.5   0.314 0.885 0.831 0.735 0.817]\n",
      "Wall time: 196 ms\n"
     ]
    }
   ],
   "source": [
    "\n",
    "%%time\n",
    "run_NB(X_train_uncorr, X_test_uncorr, y_train, y_test)"
   ]
  },
  {
   "cell_type": "code",
   "execution_count": 11,
   "id": "f1811b1d",
   "metadata": {},
   "outputs": [
    {
     "name": "stdout",
     "output_type": "stream",
     "text": [
      "DT____Accuracy:  0.8520089285714286 ---TIME = 0.71875 seconds ---\n",
      "TEST Accuracy: 0.8520089285714286\n",
      "TEST F1 score: 0.8522974304840372\n",
      "TEST Recall: 0.8532898919941774\n",
      "TEST  Precision: 0.8537847651973082\n",
      "[0.778 0.892 0.806 0.841 0.946 0.864 0.84  0.861 0.879 0.861 0.835 0.846\n",
      " 0.95  0.877 0.886 0.807 0.795 0.825 0.885 0.965 0.924 0.89  0.768 0.837\n",
      " 0.979 0.868 0.92  0.855 0.844 0.867 0.846 0.783 0.824 0.918 0.935 0.763\n",
      " 0.788 0.963 0.971 0.895 0.807 0.8   0.943 0.893 0.797 0.789 0.82  0.857\n",
      " 0.729 0.905 0.824 0.756 0.795 0.87  0.747 0.774]\n",
      "Wall time: 896 ms\n"
     ]
    }
   ],
   "source": [
    "\n",
    "%%time\n",
    "run_DT(X_train_uncorr, X_test_uncorr, y_train, y_test)"
   ]
  },
  {
   "cell_type": "code",
   "execution_count": 12,
   "id": "424decbd",
   "metadata": {},
   "outputs": [
    {
     "name": "stdout",
     "output_type": "stream",
     "text": [
      "KNN____Accuracy:  0.9647321428571428 ---TIME = 4.21875 seconds ---\n",
      "TEST Accuracy: 0.9647321428571428\n",
      "TEST F1 score: 0.9640527087239337\n",
      "TEST Recall: 0.9642224164532268\n",
      "TEST  Precision: 0.9644091406803488\n",
      "[0.963 0.976 0.986 0.939 0.986 0.963 0.989 0.944 0.879 0.944 0.899 0.978\n",
      " 0.988 0.969 0.987 0.932 0.962 0.963 0.987 1.    0.955 0.967 0.928 1.\n",
      " 0.989 0.985 0.987 0.928 1.    0.947 0.985 0.899 0.965 0.965 0.987 0.968\n",
      " 1.    0.988 0.942 0.987 0.988 0.929 0.943 1.    0.959 0.987 0.94  0.986\n",
      " 0.958 1.    0.973 0.872 0.949 1.    0.964 0.946]\n",
      "Wall time: 2.7 s\n"
     ]
    }
   ],
   "source": [
    "\n",
    "%%time\n",
    "run_KNN(X_train_uncorr, X_test_uncorr, y_train, y_test)"
   ]
  },
  {
   "cell_type": "code",
   "execution_count": null,
   "id": "d62f08cb",
   "metadata": {},
   "outputs": [],
   "source": []
  }
 ],
 "metadata": {
  "kernelspec": {
   "display_name": "Python 3 (ipykernel)",
   "language": "python",
   "name": "python3"
  },
  "language_info": {
   "codemirror_mode": {
    "name": "ipython",
    "version": 3
   },
   "file_extension": ".py",
   "mimetype": "text/x-python",
   "name": "python",
   "nbconvert_exporter": "python",
   "pygments_lexer": "ipython3",
   "version": "3.10.9"
  },
  "widgets": {
   "application/vnd.jupyter.widget-state+json": {
    "state": {},
    "version_major": 2,
    "version_minor": 0
   }
  }
 },
 "nbformat": 4,
 "nbformat_minor": 5
}
