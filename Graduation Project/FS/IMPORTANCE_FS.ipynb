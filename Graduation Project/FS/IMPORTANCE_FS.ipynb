{
 "cells": [
  {
   "cell_type": "code",
   "execution_count": 8,
   "id": "d3a4cc57-8264-4973-b0d9-563db992f0f6",
   "metadata": {},
   "outputs": [],
   "source": [
    "# Feature Selection with Univariate Statistical Tests\n",
    "import numpy as np\n",
    "import pandas as pd\n",
    "import matplotlib.pyplot as plt\n",
    "%matplotlib inline\n",
    "from numpy import set_printoptions\n",
    "from sklearn.feature_selection import SelectKBest\n",
    "from sklearn.feature_selection import f_classif\n",
    "import seaborn as sns\n",
    "from sklearn import metrics \n",
    "from sklearn.metrics import roc_curve\n",
    "from sklearn.model_selection import train_test_split\n",
    "from sklearn.metrics import accuracy_score\n",
    "#---------------------used classifiers \n",
    "\n",
    "from sklearn.ensemble import RandomForestClassifier\n",
    "from sklearn.tree import DecisionTreeClassifier\n",
    "from xgboost import XGBClassifier\n",
    "from sklearn import svm\n",
    "from sklearn.neighbors import KNeighborsClassifier\n",
    "\n",
    "from sklearn.experimental import enable_hist_gradient_boosting  \n",
    "from sklearn.ensemble import HistGradientBoostingClassifier\n",
    "from sklearn.naive_bayes import GaussianNB\n",
    "#-------------------------\n",
    "\n",
    "from sklearn.feature_selection import SelectFromModel\n",
    "\n",
    "#------------------------------------------------\n",
    "import warnings\n",
    "import sys\n",
    "sys.path\n",
    "warnings.filterwarnings('ignore')\n"
   ]
  },
  {
   "cell_type": "markdown",
   "id": "2afe98a5-4d05-4a9d-9d5e-9f0ea61a77b1",
   "metadata": {},
   "source": [
    "# FS.1 - Loading Data"
   ]
  },
  {
   "cell_type": "code",
   "execution_count": 9,
   "id": "6a0b00c7-c327-49e9-96c5-481db4cf7a9f",
   "metadata": {},
   "outputs": [],
   "source": [
    "#Loading data into dataframe\n",
    "\n",
    "data = pd.read_csv(\"C:\\\\Users\\\\Smart Tablets\\\\Desktop\\\\KEYSTROKE AUTHENTICATION PROJECT//DS//KEYSTROKES.csv\")\n",
    "data.head()\n",
    "df=data"
   ]
  },
  {
   "cell_type": "code",
   "execution_count": 10,
   "id": "c0f0826e-32bb-4ed9-b29f-fff4ab5f69ac",
   "metadata": {},
   "outputs": [
    {
     "data": {
      "text/plain": [
       "((17920, 83), (4480, 83), (17920,), (4480,))"
      ]
     },
     "execution_count": 10,
     "metadata": {},
     "output_type": "execute_result"
    }
   ],
   "source": [
    "X=df.drop(['subject'],axis=1)\n",
    "y=df['subject']\n",
    "X_train, X_test, y_train, y_test = train_test_split(X, y, test_size=0.20)\n",
    "X_train.shape, X_test.shape , y_train.shape,y_test.shape"
   ]
  },
  {
   "cell_type": "markdown",
   "id": "649a1f4a-c95f-42b2-99fc-3370589850d6",
   "metadata": {},
   "source": [
    "# FS.3- FEATURE IMPOTANCE   \n"
   ]
  },
  {
   "cell_type": "code",
   "execution_count": 11,
   "id": "df37fd5c-19f3-4763-b894-5693557b1dec",
   "metadata": {},
   "outputs": [
    {
     "data": {
      "text/plain": [
       "array([False, False,  True, False, False, False, False, False, False,\n",
       "       False,  True, False, False, False,  True,  True,  True, False,\n",
       "       False,  True,  True,  True,  True,  True,  True,  True,  True,\n",
       "        True,  True,  True, False, False,  True,  True,  True,  True,\n",
       "        True,  True,  True,  True, False, False, False, False, False,\n",
       "       False, False, False,  True, False, False,  True, False, False,\n",
       "       False, False, False, False, False, False, False, False, False,\n",
       "       False, False, False, False, False,  True,  True,  True, False,\n",
       "       False, False, False, False, False, False, False, False, False,\n",
       "       False, False])"
      ]
     },
     "execution_count": 11,
     "metadata": {},
     "output_type": "execute_result"
    }
   ],
   "source": [
    " #Feature selection by feature importance of random forest classifier\n",
    "sel = SelectFromModel(RandomForestClassifier(n_estimators=100, random_state=0, n_jobs=-1))\n",
    "sel.fit(X_train, y_train)\n",
    "sel.get_support()"
   ]
  },
  {
   "cell_type": "code",
   "execution_count": 12,
   "id": "c87e47f9-07a7-456d-bc13-ff8cbc3e0857",
   "metadata": {},
   "outputs": [
    {
     "data": {
      "text/plain": [
       "Index(['U1-H', 'U2-H', 'U3-H', 'U4-H', 'U5-H', 'U6-H', 'U7-H', 'U8-H', 'U9-H',\n",
       "       'U10-H', 'U11-H', 'U12-H', 'D1-DD', 'D1-UU', 'D1-UD', 'D1-DU', 'D2-DD',\n",
       "       'D2-UU', 'D2-UD', 'D2-DU', 'D3-DD', 'D3-UU', 'D3-UD', 'D3-DU', 'D4-DD',\n",
       "       'D4-UU', 'D4-UD', 'D4-DU', 'D5-DD', 'D5-UU', 'D5-UD', 'D5-DU', 'D6-DD',\n",
       "       'D6-UU', 'D6-UD', 'D6-DU', 'D7-DD', 'D7-UU', 'D7-UD', 'D7-DU', 'D8-DD',\n",
       "       'D8-UU', 'D8-UD', 'D8-DU', 'D9-DD', 'D9-UU', 'D9-UD', 'D9-DU', 'D10-DD',\n",
       "       'D10-UU', 'D10-UD', 'D10-DU', 'D11-DD', 'D11-UU', 'D11-UD', 'D11-DU',\n",
       "       'D12-DD', 'D12-UU', 'D12-UD', 'D12-DU', 'D13-DD', 'D13-UU', 'D13-UD',\n",
       "       'D13-DU', 'D14-DD', 'D14-UU', 'D14-UD', 'D14-DU', 'D15-DD', 'D15-UU',\n",
       "       'D15-UD', 'D15-DU', 'D16-DD', 'D16-UU', 'D16-UD', 'D16-DU', 'D17-DD',\n",
       "       'D17-UU', 'D17-UD', 'D17-DU', 'D18-DD', 'D18-UU', 'D18-UD'],\n",
       "      dtype='object')"
      ]
     },
     "execution_count": 12,
     "metadata": {},
     "output_type": "execute_result"
    }
   ],
   "source": [
    "X_train.columns"
   ]
  },
  {
   "cell_type": "code",
   "execution_count": 13,
   "id": "d5093460-f8f9-49ee-849c-5146aad7c4ca",
   "metadata": {},
   "outputs": [
    {
     "data": {
      "text/plain": [
       "Index(['U3-H', 'U11-H', 'D1-UD', 'D1-DU', 'D2-DD', 'D2-DU', 'D3-DD', 'D3-UU',\n",
       "       'D3-UD', 'D3-DU', 'D4-DD', 'D4-UU', 'D4-UD', 'D4-DU', 'D5-DD', 'D5-UU',\n",
       "       'D6-DD', 'D6-UU', 'D6-UD', 'D6-DU', 'D7-DD', 'D7-UU', 'D7-UD', 'D7-DU',\n",
       "       'D10-DD', 'D10-DU', 'D15-DD', 'D15-UU', 'D15-UD'],\n",
       "      dtype='object')"
      ]
     },
     "execution_count": 13,
     "metadata": {},
     "output_type": "execute_result"
    }
   ],
   "source": [
    "features = X_train.columns[sel.get_support()]\n",
    "features "
   ]
  },
  {
   "cell_type": "code",
   "execution_count": 14,
   "id": "696cfc08-ade3-474e-8833-7f02ae27bdcf",
   "metadata": {},
   "outputs": [
    {
     "data": {
      "text/plain": [
       "0.012048192771084338"
      ]
     },
     "execution_count": 14,
     "metadata": {},
     "output_type": "execute_result"
    }
   ],
   "source": [
    "np.mean(sel.estimator_.feature_importances_)"
   ]
  },
  {
   "cell_type": "code",
   "execution_count": 15,
   "id": "0ac5390e-ebdb-49b0-8b75-7ade5736de99",
   "metadata": {},
   "outputs": [
    {
     "data": {
      "text/plain": [
       "array([0.00790492, 0.00948965, 0.01342043, 0.00765395, 0.00908175,\n",
       "       0.00668983, 0.00579542, 0.00878526, 0.0094491 , 0.01144145,\n",
       "       0.01661334, 0.01079857, 0.01005106, 0.00783556, 0.01585061,\n",
       "       0.01697301, 0.0193449 , 0.01162127, 0.00664343, 0.01514502,\n",
       "       0.01523432, 0.0209591 , 0.01902605, 0.01704766, 0.01750337,\n",
       "       0.01912515, 0.01965214, 0.01321179, 0.01899841, 0.02008766,\n",
       "       0.01137006, 0.00604497, 0.01742092, 0.01233349, 0.02344307,\n",
       "       0.01910647, 0.01903903, 0.01827687, 0.01869145, 0.01894328,\n",
       "       0.00456441, 0.00578928, 0.00756985, 0.00471806, 0.00996909,\n",
       "       0.01016975, 0.0046561 , 0.01068385, 0.01958371, 0.00743208,\n",
       "       0.00456493, 0.0140435 , 0.00511501, 0.00640858, 0.00288286,\n",
       "       0.00521131, 0.00570538, 0.0033217 , 0.00523936, 0.00895846,\n",
       "       0.00613594, 0.00899405, 0.00836366, 0.00866414, 0.00371143,\n",
       "       0.01162665, 0.00416693, 0.00602135, 0.05405974, 0.03281966,\n",
       "       0.04410142, 0.00913454, 0.01144159, 0.0099453 , 0.00820324,\n",
       "       0.00937177, 0.00923108, 0.00533878, 0.01080254, 0.00811556,\n",
       "       0.00403476, 0.0063523 , 0.00667249])"
      ]
     },
     "execution_count": 15,
     "metadata": {},
     "output_type": "execute_result"
    }
   ],
   "source": [
    "sel.estimator_.feature_importances_"
   ]
  },
  {
   "cell_type": "code",
   "execution_count": 16,
   "id": "85d93d1f-9c10-4399-ad03-aecd2c84ec06",
   "metadata": {},
   "outputs": [],
   "source": [
    "X_train_rfc = sel.transform(X_train)\n",
    "X_test_rfc = sel.transform(X_test)"
   ]
  },
  {
   "cell_type": "code",
   "execution_count": 30,
   "id": "92d04557-b7c3-46db-a4cb-45f0e97747a6",
   "metadata": {},
   "outputs": [],
   "source": [
    "def run_randomForest(X_train, X_test, y_train, y_test):\n",
    "    clf = RandomForestClassifier(n_estimators=100, random_state=0, n_jobs=-1)\n",
    "    clf.fit(X_train, y_train)\n",
    "    y_pred = clf.predict(X_test)\n",
    "    print('Accuracy: ', accuracy_score(y_test, y_pred))\n",
    "    \n",
    "    \n",
    "#############\n",
    "def run_knn(X_train, X_test, y_train, y_test):\n",
    "    clf = KNeighborsClassifier(n_neighbors=5)\n",
    "    clf.fit(X_train, y_train)\n",
    "    y_pred = clf.predict(X_test)\n",
    "    print('Accuracy: ', accuracy_score(y_test, y_pred))\n",
    "    \n",
    "    #####\n",
    "def run_XGB(X_train, X_test, y_train, y_test):\n",
    "  \n",
    "    clf = XGBClassifier(num_class=56,learning_rate=0.1,num_iterations=10,max_depth=10,feature_fraction=0.7,scale_pos_weight=1.5,boosting='gbdt',metric='multiclass',eval_metric='mlogloss')\n",
    "    clf.fit(X_train, y_train)\n",
    "    y_pred = clf.predict(X_test)\n",
    "    print('Accuracy: ', accuracy_score(y_test, y_pred))\n",
    "    \n",
    "    "
   ]
  },
  {
   "cell_type": "markdown",
   "id": "cea275c1-8b11-4595-93ba-6ba9633f66d0",
   "metadata": {},
   "source": [
    "# RF WITH SELECTED FEATURES  "
   ]
  },
  {
   "cell_type": "code",
   "execution_count": 25,
   "id": "cf2bb253-560d-4b17-8b02-260d26329b97",
   "metadata": {},
   "outputs": [
    {
     "name": "stdout",
     "output_type": "stream",
     "text": [
      "Accuracy:  0.9915178571428571\n",
      "CPU times: total: 39.8 s\n",
      "Wall time: 6.34 s\n"
     ]
    }
   ],
   "source": [
    "%%time\n",
    "run_randomForest(X_train_rfc, X_test_rfc, y_train, y_test)"
   ]
  },
  {
   "cell_type": "markdown",
   "id": "e39aecc8-30c9-4371-ba13-1d4a7995aece",
   "metadata": {},
   "source": [
    "# KNN with selected Features "
   ]
  },
  {
   "cell_type": "code",
   "execution_count": 27,
   "id": "be055124-d951-435d-8c7e-db27e6960c8a",
   "metadata": {},
   "outputs": [
    {
     "name": "stdout",
     "output_type": "stream",
     "text": [
      "Accuracy:  0.8892857142857142\n",
      "CPU times: total: 2.3 s\n",
      "Wall time: 495 ms\n"
     ]
    }
   ],
   "source": [
    "%%time\n",
    "run_knn(X_train_rfc, X_test_rfc, y_train, y_test)"
   ]
  },
  {
   "cell_type": "markdown",
   "id": "7c2b34a9-06e4-4072-a289-c644f4058cbd",
   "metadata": {},
   "source": [
    "# XGB with selected features "
   ]
  },
  {
   "cell_type": "code",
   "execution_count": 31,
   "id": "b6f6f279-ced0-419e-95a3-07a7b8585de1",
   "metadata": {},
   "outputs": [
    {
     "name": "stdout",
     "output_type": "stream",
     "text": [
      "Accuracy:  0.9837053571428571\n",
      "CPU times: total: 4min 40s\n",
      "Wall time: 4min 40s\n"
     ]
    }
   ],
   "source": [
    "%%time\n",
    "run_XGB(X_train_rfc, X_test_rfc, y_train, y_test)"
   ]
  },
  {
   "cell_type": "code",
   "execution_count": null,
   "id": "2ef4d079-b4cd-4162-8db3-0321ba09b6c0",
   "metadata": {},
   "outputs": [],
   "source": []
  }
 ],
 "metadata": {
  "kernelspec": {
   "display_name": "Python 3 (ipykernel)",
   "language": "python",
   "name": "python3"
  },
  "language_info": {
   "codemirror_mode": {
    "name": "ipython",
    "version": 3
   },
   "file_extension": ".py",
   "mimetype": "text/x-python",
   "name": "python",
   "nbconvert_exporter": "python",
   "pygments_lexer": "ipython3",
   "version": "3.10.9"
  }
 },
 "nbformat": 4,
 "nbformat_minor": 5
}
